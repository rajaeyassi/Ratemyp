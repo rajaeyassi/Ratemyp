{
 "cells": [
  {
   "cell_type": "code",
   "execution_count": 9,
   "metadata": {},
   "outputs": [
    {
     "name": "stderr",
     "output_type": "stream",
     "text": [
      "/Users/rajaeyassine/miniconda3/envs/rag/lib/python3.10/site-packages/pinecone/data/index.py:1: TqdmWarning: IProgress not found. Please update jupyter and ipywidgets. See https://ipywidgets.readthedocs.io/en/stable/user_install.html\n",
      "  from tqdm.autonotebook import tqdm\n"
     ]
    }
   ],
   "source": [
    "from dotenv import load_dotenv\n",
    "load_dotenv()\n",
    "from openai import OpenAI\n",
    "import os\n",
    "import json\n",
    "from pinecone import Pinecone, ServerlessSpec\n",
    "\n"
   ]
  },
  {
   "cell_type": "code",
   "execution_count": 17,
   "metadata": {},
   "outputs": [],
   "source": [
    "load_dotenv()  # or load_dotenv(dotenv_path=\"/path/to/.env\")\n",
    "pinecone_api_key = os.getenv(\"PINECONE_API_KEY\")"
   ]
  },
  {
   "cell_type": "code",
   "execution_count": 18,
   "metadata": {},
   "outputs": [],
   "source": [
    "# Initialize Pinecone\n",
    "pc = Pinecone(api_key=os.getenv(\"PINECONE_API_KEY\"))\n",
    "\n",
    "# Create a Pinecone index\n",
    "pc.create_index(\n",
    "    name=\"rag\",\n",
    "    dimension=1536,\n",
    "    metric=\"cosine\",\n",
    "    spec=ServerlessSpec(cloud=\"aws\", region=\"us-east-1\"),\n",
    ")"
   ]
  },
  {
   "cell_type": "code",
   "execution_count": 31,
   "metadata": {},
   "outputs": [
    {
     "data": {
      "text/plain": [
       "[{'professor': 'Dr. John Smith',\n",
       "  'subject': 'Introduction to Psychology',\n",
       "  'stars': 4,\n",
       "  'review': 'Great professor, explains concepts clearly and is very approachable.'},\n",
       " {'professor': 'Dr. Emily Johnson',\n",
       "  'subject': 'Calculus I',\n",
       "  'stars': 5,\n",
       "  'review': 'Challenging class, but Dr. Emily Johnson is excellent at breaking down difficult topics.'},\n",
       " {'professor': 'Dr. Michael Brown',\n",
       "  'subject': 'Organic Chemistry',\n",
       "  'stars': 3,\n",
       "  'review': 'The course material is tough, but Dr. Michael Brown is always willing to help during office hours.'},\n",
       " {'professor': 'Prof. Laura Williams',\n",
       "  'subject': 'World History',\n",
       "  'stars': 4,\n",
       "  'review': 'Engaging lectures, though the exams are a bit difficult.'},\n",
       " {'professor': 'Dr. James Taylor',\n",
       "  'subject': 'Introduction to Computer Science',\n",
       "  'stars': 5,\n",
       "  'review': 'Amazing professor, very knowledgeable and passionate about the subject.'},\n",
       " {'professor': 'Prof. Sarah Miller',\n",
       "  'subject': 'English Literature',\n",
       "  'stars': 4,\n",
       "  'review': 'Very insightful and encourages deep thinking, but grades tough.'},\n",
       " {'professor': 'Dr. Robert Anderson',\n",
       "  'subject': 'Physics I',\n",
       "  'stars': 3,\n",
       "  'review': 'Good lectures, but sometimes hard to follow. Recitations are helpful.'},\n",
       " {'professor': 'Prof. Jennifer Thomas',\n",
       "  'subject': 'Sociology 101',\n",
       "  'stars': 4,\n",
       "  'review': 'Interesting class, very interactive and lots of group discussions.'},\n",
       " {'professor': 'Dr. William Moore',\n",
       "  'subject': 'Microeconomics',\n",
       "  'stars': 2,\n",
       "  'review': \"Course material is hard to grasp, and the professor's teaching style is a bit confusing.\"},\n",
       " {'professor': 'Prof. Linda Martinez',\n",
       "  'subject': 'Spanish I',\n",
       "  'stars': 5,\n",
       "  'review': 'Excellent language teacher, makes learning Spanish fun and engaging.'},\n",
       " {'professor': 'Dr. Kevin Clark',\n",
       "  'subject': 'Philosophy 101',\n",
       "  'stars': 3,\n",
       "  'review': 'Interesting content but the professor can be a bit dry in lectures.'},\n",
       " {'professor': 'Prof. Barbara Lewis',\n",
       "  'subject': 'Statistics',\n",
       "  'stars': 4,\n",
       "  'review': 'Good at explaining concepts, but the workload is heavy.'},\n",
       " {'professor': 'Dr. Daniel Walker',\n",
       "  'subject': 'Biology II',\n",
       "  'stars': 5,\n",
       "  'review': \"Fantastic professor, really cares about his students' success.\"},\n",
       " {'professor': 'Prof. Angela Hall',\n",
       "  'subject': 'Marketing 101',\n",
       "  'stars': 3,\n",
       "  'review': 'Decent course, but assignments are not always clearly explained.'},\n",
       " {'professor': 'Dr. Matthew Allen',\n",
       "  'subject': 'Political Science',\n",
       "  'stars': 4,\n",
       "  'review': 'Engaging discussions and thought-provoking assignments.'},\n",
       " {'professor': 'Prof. Nancy Young',\n",
       "  'subject': 'Art History',\n",
       "  'stars': 5,\n",
       "  'review': 'Passionate about the subject, her enthusiasm makes the class enjoyable.'},\n",
       " {'professor': 'Dr. Christopher Hernandez',\n",
       "  'subject': 'Advanced Calculus',\n",
       "  'stars': 2,\n",
       "  'review': 'Very difficult class, and the professor is not very approachable.'},\n",
       " {'professor': 'Prof. Karen King',\n",
       "  'subject': 'Business Law',\n",
       "  'stars': 4,\n",
       "  'review': 'Very knowledgeable and provides real-world examples, but exams are tough.'},\n",
       " {'professor': 'Dr. Anthony Scott',\n",
       "  'subject': 'Chemistry II',\n",
       "  'stars': 3,\n",
       "  'review': 'Good professor, but the material is very challenging.'},\n",
       " {'professor': 'Prof. Patricia Green',\n",
       "  'subject': 'Creative Writing',\n",
       "  'stars': 5,\n",
       "  'review': 'Amazing class, Prof. Green really pushes you to develop your writing skills.'}]"
      ]
     },
     "execution_count": 31,
     "metadata": {},
     "output_type": "execute_result"
    }
   ],
   "source": [
    "# Load the review data\n",
    "import json\n",
    "data = json.load(open(\"reviews.json\"))\n",
    "data['reviews']\n",
    "\n"
   ]
  },
  {
   "cell_type": "code",
   "execution_count": 25,
   "metadata": {},
   "outputs": [],
   "source": [
    "processed_data = []\n",
    "client = OpenAI()"
   ]
  },
  {
   "cell_type": "code",
   "execution_count": 28,
   "metadata": {},
   "outputs": [],
   "source": [
    "# Create embeddings for each review\n",
    "for review in data[\"reviews\"]:\n",
    "    response = client.embeddings.create(\n",
    "        input=review['review'], model=\"text-embedding-3-small\"\n",
    "    )\n",
    "    embedding = response.data[0].embedding\n",
    "    processed_data.append(\n",
    "        {\n",
    "            \"values\": embedding,\n",
    "            \"id\": review[\"professor\"],\n",
    "            \"metadata\":{\n",
    "                \"review\": review[\"review\"],\n",
    "                \"subject\": review[\"subject\"],\n",
    "                \"stars\": review[\"stars\"],\n",
    "            }\n",
    "        }\n",
    "    )\n"
   ]
  },
  {
   "cell_type": "code",
   "execution_count": 29,
   "metadata": {},
   "outputs": [
    {
     "name": "stdout",
     "output_type": "stream",
     "text": [
      "Upserted count: 39\n"
     ]
    }
   ],
   "source": [
    "# Insert the embeddings into the Pinecone index\n",
    "index = pc.Index(\"rag\")\n",
    "upsert_response = index.upsert(\n",
    "    vectors=processed_data,\n",
    "    namespace=\"ns1\",\n",
    ")\n",
    "print(f\"Upserted count: {upsert_response['upserted_count']}\")"
   ]
  },
  {
   "cell_type": "code",
   "execution_count": 30,
   "metadata": {},
   "outputs": [
    {
     "name": "stdout",
     "output_type": "stream",
     "text": [
      "{'dimension': 1536,\n",
      " 'index_fullness': 0.0,\n",
      " 'namespaces': {},\n",
      " 'total_vector_count': 0}\n"
     ]
    }
   ],
   "source": [
    "# Print index statistics\n",
    "print(index.describe_index_stats())"
   ]
  }
 ],
 "metadata": {
  "kernelspec": {
   "display_name": "rag",
   "language": "python",
   "name": "python3"
  },
  "language_info": {
   "codemirror_mode": {
    "name": "ipython",
    "version": 3
   },
   "file_extension": ".py",
   "mimetype": "text/x-python",
   "name": "python",
   "nbconvert_exporter": "python",
   "pygments_lexer": "ipython3",
   "version": "3.10.14"
  }
 },
 "nbformat": 4,
 "nbformat_minor": 2
}
